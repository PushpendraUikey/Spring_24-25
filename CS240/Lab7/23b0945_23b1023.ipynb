{
  "cells": [
    {
      "cell_type": "code",
      "execution_count": 27,
      "metadata": {
        "id": "hwmJtTjl_wIt"
      },
      "outputs": [],
      "source": [
        "import numpy as np\n",
        "import pandas as pd\n",
        "from sklearn.pipeline import make_pipeline\n",
        "from sklearn.preprocessing import StandardScaler\n",
        "from sklearn.svm import SVC\n",
        "from sklearn.svm import LinearSVC\n",
        "from sklearn import metrics\n",
        "from sklearn.metrics import accuracy_score"
      ]
    },
    {
      "cell_type": "markdown",
      "source": [
        "## Taking input"
      ],
      "metadata": {
        "id": "eZvGP3gwHeNu"
      }
    },
    {
      "cell_type": "code",
      "source": [
        "train_data=pd.read_csv(r\"/content/mnist_train.csv\")\n",
        "test_data=pd.read_csv(r\"/content/mnist_test.csv\")\n",
        "\n",
        "train_data=train_data.to_numpy()    # train_data shape: (60000, 785)\n",
        "m, n = train_data.shape\n",
        "test_data=test_data.to_numpy()      # test_data shape: (10000, 785)\n",
        "\n",
        "X_train=train_data[:,1:]            # X_train shape: (60000, 784)\n",
        "y_train=train_data[:,0]             # y_train shape: (60000,)\n",
        "X_test=test_data[:,1:]              # X_test shape: (10000, 784)\n",
        "y_test=test_data[:,0]               # y_test shape: (10000,)\n",
        "\n",
        "X_train = X_train / 255.0           # Normalizing the data\n",
        "X_test = X_test / 255.0"
      ],
      "metadata": {
        "id": "_MSD2zl-HDsy"
      },
      "execution_count": 30,
      "outputs": []
    },
    {
      "cell_type": "markdown",
      "source": [
        "## Task-1: Classifier for 10 classes, 1 for each digit."
      ],
      "metadata": {
        "id": "lvBXVQIOHFEK"
      }
    },
    {
      "cell_type": "code",
      "execution_count": null,
      "metadata": {
        "id": "9bu2eURM_wIv"
      },
      "outputs": [],
      "source": [
        "\n",
        "classifiers = {}\n",
        "for digit in range(10):\n",
        "    # Creating a new dataset where the target is 1 if it's the current digit and 0 otherwise\n",
        "    y_binary_train = np.where(y_train == digit, 1, 0)\n",
        "    y_binary_test = np.where(y_test == digit, 1, 0)\n",
        "\n",
        "    # Training the SVM classifier\n",
        "    classifier = SVC(kernel='linear', C=1.0, random_state=42)\n",
        "    classifier.fit(X_train, y_binary_train)\n",
        "    classifiers[digit] = classifier\n"
      ]
    },
    {
      "cell_type": "markdown",
      "source": [
        "## Task-2: classifier performance using precision, recall, and F1-score"
      ],
      "metadata": {
        "id": "rHWnlMA1H2AQ"
      }
    },
    {
      "cell_type": "code",
      "source": [
        "accuracy_scores = {}\n",
        "for digit in range(10):\n",
        "    # Predict on the test set\n",
        "    y_pred = classifiers[digit].predict(X_test)\n",
        "\n",
        "    # Calculate accuracy for the current digit\n",
        "    accuracy = accuracy_score(np.where(y_test == digit, 1, 0), y_pred)\n",
        "    accuracy_scores[digit] = accuracy\n",
        "    f1_score = metrics.f1_score(y_test, y_pred, average='weighted', labels=np.unique(y_pred))\n",
        "    precision = metrics.precision_score(y_test, y_pred, average='weighted', labels=np.unique(y_pred))\n",
        "    recall = metrics.recall_score(y_test, y_pred, average='weighted', labels=np.unique(y_pred))\n",
        "    print(f\"Accuracy for digit {digit}: {accuracy}\")\n",
        "    print(f\"F1 score for digit {digit}: {f1_score}\")\n",
        "    print(f\"Precision for digit {digit}: {precision}\")\n",
        "    print(f\"Recall for digit {digit}: {recall}\")\n",
        "    print()\n",
        "\n",
        ""
      ],
      "metadata": {
        "id": "QL6PttHsH6Ma",
        "colab": {
          "base_uri": "https://localhost:8080/"
        },
        "outputId": "3d13768f-4264-443a-ada0-0eb068452956"
      },
      "execution_count": 29,
      "outputs": [
        {
          "output_type": "stream",
          "name": "stdout",
          "text": [
            "Accuracy for digit 0: 1.0\n",
            "F1 score for digit 0: 0.0\n",
            "Precision for digit 0: 0.0\n",
            "Recall for digit 0: 0.0\n",
            "\n",
            "Accuracy for digit 1: 0.99\n",
            "F1 score for digit 1: 0.6769811575150841\n",
            "Precision for digit 1: 0.6281639928698752\n",
            "Recall for digit 1: 1.0\n",
            "\n",
            "Accuracy for digit 2: 0.98\n",
            "F1 score for digit 2: 0.0570409982174688\n",
            "Precision for digit 2: 0.030947775628626693\n",
            "Recall for digit 2: 0.36363636363636365\n",
            "\n",
            "Accuracy for digit 3: 0.98\n",
            "F1 score for digit 3: 0.05876951331496787\n",
            "Precision for digit 3: 0.03196803196803197\n",
            "Recall for digit 3: 0.36363636363636365\n",
            "\n",
            "Accuracy for digit 4: 0.98\n",
            "F1 score for digit 4: 0.061895551257253385\n",
            "Precision for digit 4: 0.03382663847780127\n",
            "Recall for digit 4: 0.36363636363636365\n",
            "\n",
            "Accuracy for digit 5: 0.98\n",
            "F1 score for digit 5: 0.056487202118270075\n",
            "Precision for digit 5: 0.03062200956937799\n",
            "Recall for digit 5: 0.36363636363636365\n",
            "\n",
            "Accuracy for digit 6: 0.97\n",
            "F1 score for digit 6: 0.05876951331496787\n",
            "Precision for digit 6: 0.03196803196803197\n",
            "Recall for digit 6: 0.36363636363636365\n",
            "\n",
            "Accuracy for digit 7: 0.98\n",
            "F1 score for digit 7: 0.06256109481915934\n",
            "Precision for digit 7: 0.034224598930481284\n",
            "Recall for digit 7: 0.36363636363636365\n",
            "\n",
            "Accuracy for digit 8: 0.98\n",
            "F1 score for digit 8: 0.048027444253859346\n",
            "Precision for digit 8: 0.025974025974025972\n",
            "Recall for digit 8: 0.3181818181818182\n",
            "\n",
            "Accuracy for digit 9: 0.97\n",
            "F1 score for digit 9: 0.05936920222634508\n",
            "Precision for digit 9: 0.03232323232323232\n",
            "Recall for digit 9: 0.36363636363636365\n",
            "\n"
          ]
        }
      ]
    },
    {
      "cell_type": "markdown",
      "source": [
        "## Predicting new input."
      ],
      "metadata": {
        "id": "npzo6wxnHrcE"
      }
    },
    {
      "cell_type": "code",
      "execution_count": 26,
      "metadata": {
        "id": "tVoUl2od_wIu",
        "colab": {
          "base_uri": "https://localhost:8080/"
        },
        "outputId": "200bd4aa-bdc9-481b-9fb3-269b9c778f6d"
      },
      "outputs": [
        {
          "output_type": "stream",
          "name": "stdout",
          "text": [
            "Predicted digit: 5\n"
          ]
        }
      ],
      "source": [
        "# 4. Prediction (Example)\n",
        "def predict_digit(image_data, classifiers):\n",
        "    # Use all classifiers to predict\n",
        "    predictions = []\n",
        "    for digit in range(10):\n",
        "        predictions.append(classifiers[digit].predict(image_data.reshape(1, -1))[0])\n",
        "\n",
        "    # Return the digit with the highest confidence\n",
        "    return np.argmax(predictions)\n",
        "\n",
        "# Example prediction\n",
        "image_data = train_data[20000][1:]/255.0\n",
        "predicted_digit = predict_digit(image_data, classifiers)\n",
        "print(f\"Predicted digit: {predicted_digit}\")"
      ]
    },
    {
      "cell_type": "code",
      "execution_count": null,
      "metadata": {
        "id": "tPAVVmaw_wIw"
      },
      "outputs": [],
      "source": []
    }
  ],
  "metadata": {
    "kernelspec": {
      "display_name": "Python 3 (ipykernel)",
      "language": "python",
      "name": "python3"
    },
    "language_info": {
      "codemirror_mode": {
        "name": "ipython",
        "version": 3
      },
      "file_extension": ".py",
      "mimetype": "text/x-python",
      "name": "python",
      "nbconvert_exporter": "python",
      "pygments_lexer": "ipython3",
      "version": "3.10.12"
    },
    "colab": {
      "provenance": []
    }
  },
  "nbformat": 4,
  "nbformat_minor": 0
}